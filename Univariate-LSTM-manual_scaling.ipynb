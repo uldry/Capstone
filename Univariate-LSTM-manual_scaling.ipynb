{
 "cells": [
  {
   "cell_type": "markdown",
   "metadata": {},
   "source": [
    "# RNN LSTM\n",
    "\n",
    "## Univariate using manual scaling"
   ]
  },
  {
   "cell_type": "markdown",
   "metadata": {},
   "source": [
    "Keras 2.2.5\n",
    "Tensorflow 1.9"
   ]
  },
  {
   "cell_type": "code",
   "execution_count": 2,
   "metadata": {},
   "outputs": [
    {
     "name": "stderr",
     "output_type": "stream",
     "text": [
      "Using TensorFlow backend.\n",
      "C:\\Users\\xuldr\\anaconda3\\envs\\capstone\\lib\\site-packages\\tensorflow\\python\\framework\\dtypes.py:526: FutureWarning: Passing (type, 1) or '1type' as a synonym of type is deprecated; in a future version of numpy, it will be understood as (type, (1,)) / '(1,)type'.\n",
      "  _np_qint8 = np.dtype([(\"qint8\", np.int8, 1)])\n",
      "C:\\Users\\xuldr\\anaconda3\\envs\\capstone\\lib\\site-packages\\tensorflow\\python\\framework\\dtypes.py:527: FutureWarning: Passing (type, 1) or '1type' as a synonym of type is deprecated; in a future version of numpy, it will be understood as (type, (1,)) / '(1,)type'.\n",
      "  _np_quint8 = np.dtype([(\"quint8\", np.uint8, 1)])\n",
      "C:\\Users\\xuldr\\anaconda3\\envs\\capstone\\lib\\site-packages\\tensorflow\\python\\framework\\dtypes.py:528: FutureWarning: Passing (type, 1) or '1type' as a synonym of type is deprecated; in a future version of numpy, it will be understood as (type, (1,)) / '(1,)type'.\n",
      "  _np_qint16 = np.dtype([(\"qint16\", np.int16, 1)])\n",
      "C:\\Users\\xuldr\\anaconda3\\envs\\capstone\\lib\\site-packages\\tensorflow\\python\\framework\\dtypes.py:529: FutureWarning: Passing (type, 1) or '1type' as a synonym of type is deprecated; in a future version of numpy, it will be understood as (type, (1,)) / '(1,)type'.\n",
      "  _np_quint16 = np.dtype([(\"quint16\", np.uint16, 1)])\n",
      "C:\\Users\\xuldr\\anaconda3\\envs\\capstone\\lib\\site-packages\\tensorflow\\python\\framework\\dtypes.py:530: FutureWarning: Passing (type, 1) or '1type' as a synonym of type is deprecated; in a future version of numpy, it will be understood as (type, (1,)) / '(1,)type'.\n",
      "  _np_qint32 = np.dtype([(\"qint32\", np.int32, 1)])\n",
      "C:\\Users\\xuldr\\anaconda3\\envs\\capstone\\lib\\site-packages\\tensorflow\\python\\framework\\dtypes.py:535: FutureWarning: Passing (type, 1) or '1type' as a synonym of type is deprecated; in a future version of numpy, it will be understood as (type, (1,)) / '(1,)type'.\n",
      "  np_resource = np.dtype([(\"resource\", np.ubyte, 1)])\n"
     ]
    }
   ],
   "source": [
    "import numpy as np\n",
    "import pandas as pd\n",
    "\n",
    "from math import sqrt\n",
    "import datetime as dt\n",
    "from datetime import timedelta\n",
    "from sklearn.preprocessing import MinMaxScaler\n",
    "\n",
    "from keras import Sequential\n",
    "from keras.layers import Dense, LSTM\n",
    "from keras.models import load_model\n",
    "\n",
    "from sklearn.metrics import mean_squared_error\n",
    "\n",
    "import os.path\n",
    "\n",
    "import warnings\n",
    "warnings.filterwarnings(\"ignore\")\n",
    "\n",
    "import matplotlib.pyplot as plt\n",
    "%matplotlib inline\n",
    "import seaborn as sns\n"
   ]
  },
  {
   "cell_type": "markdown",
   "metadata": {},
   "source": [
    "The Following function is building the training sequence"
   ]
  },
  {
   "cell_type": "code",
   "execution_count": 24,
   "metadata": {},
   "outputs": [],
   "source": [
    "def BuildTrain(df, startDate,endDate, X_previous, y_previous):\n",
    "    X = []\n",
    "    y =[]\n",
    "    lookback = 40 # 40 times 15 minutes -> 10 Hours\n",
    "    \n",
    "    data = df[(df.Datetime>= startDate) & (df.Datetime< endDate)]\n",
    "\n",
    "    # Col2: CLOSE, col3: Volume, col4: NewsUSD, col5: News EUR, col6: USA30.Idx,col7: EUS50Idx\n",
    "    input_feature= data.iloc[:,2].values\n",
    "\n",
    "    input_data = input_feature\n",
    "\n",
    "    for i in range(len(data)-lookback-4):\n",
    "        t=[]\n",
    "        for j in range(0,lookback):\n",
    "            t.append(input_data[[(i+j)]])\n",
    "        X.append(t)\n",
    "        u = []\n",
    "        for k in range(4):\n",
    "            u.append(input_data[i+ lookback + k])\n",
    "        y.append(u)\n",
    "    # Transforming dataframe in numpy arrays\n",
    "    X, y = np.array(X), np.array(y)  \n",
    "    X = X.reshape(X.shape[0],lookback, 1)\n",
    "\n",
    "    if len(X_previous)!=0:\n",
    "        X = np.concatenate((X_previous, X))\n",
    "        y = np.concatenate((y_previous, y))\n",
    "    return(X,y)"
   ]
  },
  {
   "cell_type": "code",
   "execution_count": 25,
   "metadata": {},
   "outputs": [
    {
     "data": {
      "text/html": [
       "<div>\n",
       "<style scoped>\n",
       "    .dataframe tbody tr th:only-of-type {\n",
       "        vertical-align: middle;\n",
       "    }\n",
       "\n",
       "    .dataframe tbody tr th {\n",
       "        vertical-align: top;\n",
       "    }\n",
       "\n",
       "    .dataframe thead th {\n",
       "        text-align: right;\n",
       "    }\n",
       "</style>\n",
       "<table border=\"1\" class=\"dataframe\">\n",
       "  <thead>\n",
       "    <tr style=\"text-align: right;\">\n",
       "      <th></th>\n",
       "      <th>index</th>\n",
       "      <th>CLOSE</th>\n",
       "      <th>Volume</th>\n",
       "      <th>News_USD</th>\n",
       "      <th>News_EUR</th>\n",
       "      <th>USA30.IDXUSD_CLOSE</th>\n",
       "      <th>EUS.IDXEUR_CLOSE</th>\n",
       "    </tr>\n",
       "  </thead>\n",
       "  <tbody>\n",
       "    <tr>\n",
       "      <th>count</th>\n",
       "      <td>11548.000000</td>\n",
       "      <td>11548.000000</td>\n",
       "      <td>11548.000000</td>\n",
       "      <td>11548.000000</td>\n",
       "      <td>11548.000000</td>\n",
       "      <td>11548.000000</td>\n",
       "      <td>11548.000000</td>\n",
       "    </tr>\n",
       "    <tr>\n",
       "      <th>mean</th>\n",
       "      <td>5749.741081</td>\n",
       "      <td>1.104788</td>\n",
       "      <td>1076.387125</td>\n",
       "      <td>0.038712</td>\n",
       "      <td>0.028742</td>\n",
       "      <td>28383.878947</td>\n",
       "      <td>3729.240052</td>\n",
       "    </tr>\n",
       "    <tr>\n",
       "      <th>std</th>\n",
       "      <td>3333.352222</td>\n",
       "      <td>0.009943</td>\n",
       "      <td>1684.913242</td>\n",
       "      <td>0.144919</td>\n",
       "      <td>0.128639</td>\n",
       "      <td>744.661505</td>\n",
       "      <td>83.713354</td>\n",
       "    </tr>\n",
       "    <tr>\n",
       "      <th>min</th>\n",
       "      <td>0.000000</td>\n",
       "      <td>1.078440</td>\n",
       "      <td>0.000000</td>\n",
       "      <td>0.000000</td>\n",
       "      <td>0.000000</td>\n",
       "      <td>24712.020000</td>\n",
       "      <td>3283.830000</td>\n",
       "    </tr>\n",
       "    <tr>\n",
       "      <th>25%</th>\n",
       "      <td>2862.750000</td>\n",
       "      <td>1.101480</td>\n",
       "      <td>0.000000</td>\n",
       "      <td>0.000000</td>\n",
       "      <td>0.000000</td>\n",
       "      <td>27940.330000</td>\n",
       "      <td>3695.131000</td>\n",
       "    </tr>\n",
       "    <tr>\n",
       "      <th>50%</th>\n",
       "      <td>5749.500000</td>\n",
       "      <td>1.106530</td>\n",
       "      <td>588.660000</td>\n",
       "      <td>0.000000</td>\n",
       "      <td>0.000000</td>\n",
       "      <td>28474.330000</td>\n",
       "      <td>3742.431000</td>\n",
       "    </tr>\n",
       "    <tr>\n",
       "      <th>75%</th>\n",
       "      <td>8636.250000</td>\n",
       "      <td>1.111880</td>\n",
       "      <td>1596.100000</td>\n",
       "      <td>0.000000</td>\n",
       "      <td>0.000000</td>\n",
       "      <td>28978.800000</td>\n",
       "      <td>3780.460000</td>\n",
       "    </tr>\n",
       "    <tr>\n",
       "      <th>max</th>\n",
       "      <td>11523.000000</td>\n",
       "      <td>1.123820</td>\n",
       "      <td>43516.811300</td>\n",
       "      <td>1.882712</td>\n",
       "      <td>3.378899</td>\n",
       "      <td>29569.600000</td>\n",
       "      <td>3865.120000</td>\n",
       "    </tr>\n",
       "  </tbody>\n",
       "</table>\n",
       "</div>"
      ],
      "text/plain": [
       "              index         CLOSE        Volume      News_USD      News_EUR  \\\n",
       "count  11548.000000  11548.000000  11548.000000  11548.000000  11548.000000   \n",
       "mean    5749.741081      1.104788   1076.387125      0.038712      0.028742   \n",
       "std     3333.352222      0.009943   1684.913242      0.144919      0.128639   \n",
       "min        0.000000      1.078440      0.000000      0.000000      0.000000   \n",
       "25%     2862.750000      1.101480      0.000000      0.000000      0.000000   \n",
       "50%     5749.500000      1.106530    588.660000      0.000000      0.000000   \n",
       "75%     8636.250000      1.111880   1596.100000      0.000000      0.000000   \n",
       "max    11523.000000      1.123820  43516.811300      1.882712      3.378899   \n",
       "\n",
       "       USA30.IDXUSD_CLOSE  EUS.IDXEUR_CLOSE  \n",
       "count        11548.000000      11548.000000  \n",
       "mean         28383.878947       3729.240052  \n",
       "std            744.661505         83.713354  \n",
       "min          24712.020000       3283.830000  \n",
       "25%          27940.330000       3695.131000  \n",
       "50%          28474.330000       3742.431000  \n",
       "75%          28978.800000       3780.460000  \n",
       "max          29569.600000       3865.120000  "
      ]
     },
     "execution_count": 25,
     "metadata": {},
     "output_type": "execute_result"
    }
   ],
   "source": [
    "df = pd.read_csv('./data/EURUSD_Wfeatures.csv', index_col = 0)\n",
    "df.drop(columns={'USA30.IDXUSD_VOL','EUS.IDXEUR_VOL'}, axis = 1, inplace = True)\n",
    "df.drop(columns={'OPEN','HIGH','LOW'}, axis = 1, inplace = True)\n",
    "\n",
    "# Converting the index as date\n",
    "df.Datetime = pd.to_datetime(df['Datetime'])\n",
    "df.describe()"
   ]
  },
  {
   "cell_type": "markdown",
   "metadata": {},
   "source": [
    "Removing the data that will be used for testing"
   ]
  },
  {
   "cell_type": "code",
   "execution_count": 26,
   "metadata": {},
   "outputs": [],
   "source": [
    "startDate = dt.datetime(2019,11,3,17,0,0)\n",
    "endDate = dt.datetime(2020,1,31,16,45,0) # Scaling on Train only\n",
    "\n",
    "df = df[(df.Datetime>= startDate) & (df.Datetime< endDate)]"
   ]
  },
  {
   "cell_type": "code",
   "execution_count": 27,
   "metadata": {},
   "outputs": [
    {
     "data": {
      "image/png": "[encoded data removed]",
      "text/plain": [
       "<Figure size 864x360 with 1 Axes>"
      ]
     },
     "metadata": {
      "needs_background": "light"
     },
     "output_type": "display_data"
    }
   ],
   "source": [
    "plt.figure(figsize=(12,5))\n",
    "plt.plot(df.Datetime,df.CLOSE, color='blue')\n",
    "plt.title(\"EURUSD Training Data\")\n",
    "plt.xlabel(\"Time (latest-> oldest)\")\n",
    "plt.ylabel(\"Closing Rate\")\n",
    "plt.show()"
   ]
  },
  {
   "cell_type": "markdown",
   "metadata": {},
   "source": [
    "### Manual Scaling\n",
    "\n",
    "Here manual scaling is applied. As currencies don't vary that much and as I need to prevent the adverse effects of having the test data going beyond the limits\n",
    "- 0 will be 10% below the min value off the training sequence\n",
    "- 1 will be 10% above the max value\n"
   ]
  },
  {
   "cell_type": "code",
   "execution_count": 28,
   "metadata": {},
   "outputs": [
    {
     "data": {
      "text/html": [
       "<div>\n",
       "<style scoped>\n",
       "    .dataframe tbody tr th:only-of-type {\n",
       "        vertical-align: middle;\n",
       "    }\n",
       "\n",
       "    .dataframe tbody tr th {\n",
       "        vertical-align: top;\n",
       "    }\n",
       "\n",
       "    .dataframe thead th {\n",
       "        text-align: right;\n",
       "    }\n",
       "</style>\n",
       "<table border=\"1\" class=\"dataframe\">\n",
       "  <thead>\n",
       "    <tr style=\"text-align: right;\">\n",
       "      <th></th>\n",
       "      <th>index</th>\n",
       "      <th>CLOSE</th>\n",
       "      <th>Volume</th>\n",
       "      <th>News_USD</th>\n",
       "      <th>News_EUR</th>\n",
       "      <th>USA30.IDXUSD_CLOSE</th>\n",
       "      <th>EUS.IDXEUR_CLOSE</th>\n",
       "    </tr>\n",
       "  </thead>\n",
       "  <tbody>\n",
       "    <tr>\n",
       "      <th>count</th>\n",
       "      <td>8543.000000</td>\n",
       "      <td>8543.000000</td>\n",
       "      <td>8543.000000</td>\n",
       "      <td>8543.000000</td>\n",
       "      <td>8543.000000</td>\n",
       "      <td>8543.000000</td>\n",
       "      <td>8543.000000</td>\n",
       "    </tr>\n",
       "    <tr>\n",
       "      <th>mean</th>\n",
       "      <td>4439.000000</td>\n",
       "      <td>0.485676</td>\n",
       "      <td>981.421517</td>\n",
       "      <td>0.043070</td>\n",
       "      <td>0.033221</td>\n",
       "      <td>28335.751332</td>\n",
       "      <td>3732.356262</td>\n",
       "    </tr>\n",
       "    <tr>\n",
       "      <th>std</th>\n",
       "      <td>2466.296008</td>\n",
       "      <td>0.022693</td>\n",
       "      <td>1464.379535</td>\n",
       "      <td>0.153885</td>\n",
       "      <td>0.140947</td>\n",
       "      <td>517.407510</td>\n",
       "      <td>44.766309</td>\n",
       "    </tr>\n",
       "    <tr>\n",
       "      <th>min</th>\n",
       "      <td>168.000000</td>\n",
       "      <td>0.443181</td>\n",
       "      <td>0.000000</td>\n",
       "      <td>0.000000</td>\n",
       "      <td>0.000000</td>\n",
       "      <td>27324.831000</td>\n",
       "      <td>3605.531000</td>\n",
       "    </tr>\n",
       "    <tr>\n",
       "      <th>25%</th>\n",
       "      <td>2303.500000</td>\n",
       "      <td>0.462612</td>\n",
       "      <td>0.000000</td>\n",
       "      <td>0.000000</td>\n",
       "      <td>0.000000</td>\n",
       "      <td>27906.530000</td>\n",
       "      <td>3697.775000</td>\n",
       "    </tr>\n",
       "    <tr>\n",
       "      <th>50%</th>\n",
       "      <td>4439.000000</td>\n",
       "      <td>0.483858</td>\n",
       "      <td>610.490000</td>\n",
       "      <td>0.000000</td>\n",
       "      <td>0.000000</td>\n",
       "      <td>28269.031000</td>\n",
       "      <td>3737.831000</td>\n",
       "    </tr>\n",
       "    <tr>\n",
       "      <th>75%</th>\n",
       "      <td>6574.500000</td>\n",
       "      <td>0.501049</td>\n",
       "      <td>1542.145000</td>\n",
       "      <td>0.000000</td>\n",
       "      <td>0.000000</td>\n",
       "      <td>28695.315000</td>\n",
       "      <td>3771.730000</td>\n",
       "    </tr>\n",
       "    <tr>\n",
       "      <th>max</th>\n",
       "      <td>8710.000000</td>\n",
       "      <td>0.546488</td>\n",
       "      <td>43516.811300</td>\n",
       "      <td>1.882712</td>\n",
       "      <td>3.378899</td>\n",
       "      <td>29399.110000</td>\n",
       "      <td>3812.400000</td>\n",
       "    </tr>\n",
       "  </tbody>\n",
       "</table>\n",
       "</div>"
      ],
      "text/plain": [
       "             index        CLOSE        Volume     News_USD     News_EUR  \\\n",
       "count  8543.000000  8543.000000   8543.000000  8543.000000  8543.000000   \n",
       "mean   4439.000000     0.485676    981.421517     0.043070     0.033221   \n",
       "std    2466.296008     0.022693   1464.379535     0.153885     0.140947   \n",
       "min     168.000000     0.443181      0.000000     0.000000     0.000000   \n",
       "25%    2303.500000     0.462612      0.000000     0.000000     0.000000   \n",
       "50%    4439.000000     0.483858    610.490000     0.000000     0.000000   \n",
       "75%    6574.500000     0.501049   1542.145000     0.000000     0.000000   \n",
       "max    8710.000000     0.546488  43516.811300     1.882712     3.378899   \n",
       "\n",
       "       USA30.IDXUSD_CLOSE  EUS.IDXEUR_CLOSE  \n",
       "count         8543.000000       8543.000000  \n",
       "mean         28335.751332       3732.356262  \n",
       "std            517.407510         44.766309  \n",
       "min          27324.831000       3605.531000  \n",
       "25%          27906.530000       3697.775000  \n",
       "50%          28269.031000       3737.831000  \n",
       "75%          28695.315000       3771.730000  \n",
       "max          29399.110000       3812.400000  "
      ]
     },
     "execution_count": 28,
     "metadata": {},
     "output_type": "execute_result"
    }
   ],
   "source": [
    "Exp_var = 0.1\n",
    "\n",
    "Exp_min = df.CLOSE.min()*(1 - Exp_var)\n",
    "Exp_max = df.CLOSE.max()*(1 + Exp_var)\n",
    "scale = Exp_max - Exp_min\n",
    "df.CLOSE = (df.CLOSE - Exp_min) / (Exp_max -Exp_min)\n",
    "df.describe()"
   ]
  },
  {
   "cell_type": "code",
   "execution_count": 29,
   "metadata": {},
   "outputs": [
    {
     "data": {
      "image/png": "[encoded data removed]",
      "text/plain": [
       "<Figure size 864x360 with 1 Axes>"
      ]
     },
     "metadata": {
      "needs_background": "light"
     },
     "output_type": "display_data"
    }
   ],
   "source": [
    "plt.figure(figsize=(12,5))\n",
    "plt.plot(df.Datetime,df.CLOSE, color='blue')\n",
    "plt.title(\"EURUSD Training Data\")\n",
    "plt.xlabel(\"Time (latest-> oldest)\")\n",
    "plt.ylabel(\"Closing Rate\")\n",
    "plt.show()"
   ]
  },
  {
   "cell_type": "markdown",
   "metadata": {},
   "source": [
    "Every week of trading is added manually, Christmas and New Year's week were not added."
   ]
  },
  {
   "cell_type": "code",
   "execution_count": 30,
   "metadata": {},
   "outputs": [
    {
     "name": "stdout",
     "output_type": "stream",
     "text": [
      "(4785, 40, 1)\n",
      "(4785, 4)\n"
     ]
    }
   ],
   "source": [
    "X = []\n",
    "y = []\n",
    "\n",
    "startDate = dt.datetime(2019,11,3,17,0,0)\n",
    "endDate = dt.datetime(2019,11,8,16,45,0)\n",
    "X, y = BuildTrain(df, startDate, endDate, X, y)\n",
    "\n",
    "startDate = dt.datetime(2019,11,10,17,0,0)\n",
    "endDate = dt.datetime(2019,11,15,16,45,0)\n",
    "X, y = BuildTrain(df, startDate, endDate, X, y)\n",
    "\n",
    "startDate = dt.datetime(2019,11,17,17,0,0)\n",
    "endDate = dt.datetime(2019,11,22,16,45,0)\n",
    "X, y = BuildTrain(df, startDate, endDate, X, y)\n",
    "\n",
    "startDate = dt.datetime(2019,11,24,17,0,0)\n",
    "endDate = dt.datetime(2019,11,29,16,45,0)\n",
    "X, y = BuildTrain(df, startDate, endDate, X, y)\n",
    "\n",
    "startDate = dt.datetime(2019,12,1,17,0,0)\n",
    "endDate = dt.datetime(2019,12,6,16,45,0)\n",
    "X, y = BuildTrain(df, startDate, endDate, X, y)\n",
    "\n",
    "startDate = dt.datetime(2019,12,8,17,0,0)\n",
    "endDate = dt.datetime(2019,12,13,16,45,0)\n",
    "X, y = BuildTrain(df, startDate, endDate, X, y)\n",
    "\n",
    "startDate = dt.datetime(2019,12,15,17,0,0)\n",
    "endDate = dt.datetime(2019,12,20,16,45,0)\n",
    "X, y = BuildTrain(df, startDate, endDate, X, y)\n",
    "\n",
    "startDate = dt.datetime(2020,1,5,17,0,0)\n",
    "endDate = dt.datetime(2020,1,10,16,45,0)\n",
    "X, y = BuildTrain(df, startDate, endDate, X, y)\n",
    "\n",
    "startDate = dt.datetime(2020,1,12,17,0,0)\n",
    "endDate = dt.datetime(2020,1,17,16,45,0)\n",
    "X, y = BuildTrain(df, startDate, endDate, X, y)\n",
    "\n",
    "startDate = dt.datetime(2020,1,19,17,0,0)\n",
    "endDate = dt.datetime(2020,1,24,16,45,0)\n",
    "X, y = BuildTrain(df, startDate, endDate, X, y)\n",
    "\n",
    "startDate = dt.datetime(2020,1,26,17,0,0)\n",
    "endDate = dt.datetime(2020,1,31,16,45,0)\n",
    "X, y = BuildTrain(df, startDate, endDate, X, y)\n",
    "\n",
    "print(X.shape)\n",
    "print(y.shape)"
   ]
  },
  {
   "cell_type": "markdown",
   "metadata": {},
   "source": [
    "# Model training\n",
    "\n",
    "If required of if the h5 file doesn't exist"
   ]
  },
  {
   "cell_type": "code",
   "execution_count": 31,
   "metadata": {},
   "outputs": [],
   "source": [
    "retrain = False\n",
    "h5File =  '../../capstonedata/Results_LSTMU/Univariate-LSTM-manual_scaling.h5'"
   ]
  },
  {
   "cell_type": "code",
   "execution_count": 32,
   "metadata": {},
   "outputs": [
    {
     "name": "stdout",
     "output_type": "stream",
     "text": [
      "Retraining the model\n",
      "Model: \"sequential_2\"\n",
      "_________________________________________________________________\n",
      "Layer (type)                 Output Shape              Param #   \n",
      "=================================================================\n",
      "lstm_4 (LSTM)                (None, 40, 30)            3840      \n",
      "_________________________________________________________________\n",
      "lstm_5 (LSTM)                (None, 40, 30)            7320      \n",
      "_________________________________________________________________\n",
      "lstm_6 (LSTM)                (None, 30)                7320      \n",
      "_________________________________________________________________\n",
      "dense_2 (Dense)              (None, 4)                 124       \n",
      "=================================================================\n",
      "Total params: 18,604\n",
      "Trainable params: 18,604\n",
      "Non-trainable params: 0\n",
      "_________________________________________________________________\n",
      "Epoch 1/20\n",
      "4785/4785 [==============================] - 96s 20ms/step - loss: 0.0127\n",
      "Epoch 2/20\n",
      "4785/4785 [==============================] - 112s 23ms/step - loss: 1.3626e-04\n",
      "Epoch 3/20\n",
      "4785/4785 [==============================] - 114s 24ms/step - loss: 1.1545e-04\n",
      "Epoch 4/20\n",
      "4785/4785 [==============================] - 109s 23ms/step - loss: 9.4771e-05\n",
      "Epoch 5/20\n",
      "4785/4785 [==============================] - 110s 23ms/step - loss: 6.5186e-05\n",
      "Epoch 6/20\n",
      "4785/4785 [==============================] - 111s 23ms/step - loss: 3.7215e-05\n",
      "Epoch 7/20\n",
      "4785/4785 [==============================] - 110s 23ms/step - loss: 2.2553e-05\n",
      "Epoch 8/20\n",
      "4785/4785 [==============================] - 114s 24ms/step - loss: 1.9755e-05\n",
      "Epoch 9/20\n",
      "4785/4785 [==============================] - 111s 23ms/step - loss: 1.9941e-05\n",
      "Epoch 10/20\n",
      "4785/4785 [==============================] - 112s 23ms/step - loss: 1.9762e-05\n",
      "Epoch 11/20\n",
      "4785/4785 [==============================] - 111s 23ms/step - loss: 2.0748e-05\n",
      "Epoch 12/20\n",
      "4785/4785 [==============================] - 111s 23ms/step - loss: 2.1255e-05\n",
      "Epoch 13/20\n",
      "4785/4785 [==============================] - 111s 23ms/step - loss: 2.5131e-05\n",
      "Epoch 14/20\n",
      "4785/4785 [==============================] - 111s 23ms/step - loss: 2.2960e-05\n",
      "Epoch 15/20\n",
      "4785/4785 [==============================] - 110s 23ms/step - loss: 2.3450e-05\n",
      "Epoch 16/20\n",
      "4785/4785 [==============================] - 112s 23ms/step - loss: 2.3711e-05\n",
      "Epoch 17/20\n",
      "4785/4785 [==============================] - 111s 23ms/step - loss: 2.4958e-05\n",
      "Epoch 18/20\n",
      "4785/4785 [==============================] - 111s 23ms/step - loss: 1.8818e-05\n",
      "Epoch 19/20\n",
      "4785/4785 [==============================] - 111s 23ms/step - loss: 2.2118e-05\n",
      "Epoch 20/20\n",
      "4785/4785 [==============================] - 112s 23ms/step - loss: 2.5874e-05\n"
     ]
    }
   ],
   "source": [
    "if ((not os.path.exists(h5File)) | (retrain==True)):\n",
    "    print(\"Retraining the model\")\n",
    "    model = Sequential()\n",
    "    model.add(LSTM(units=30, return_sequences= True, input_shape=(X.shape[1],1)))\n",
    "    model.add(LSTM(units=30, return_sequences=True))\n",
    "    model.add(LSTM(units=30))\n",
    "    model.add(Dense(units=4))\n",
    "    model.summary()\n",
    "    model.compile(optimizer='adam', loss='mse')\n",
    "    model.fit(X, y, epochs=20, batch_size=32)\n",
    "    \n",
    "    model.save(\"Univariate_LSTM_ManualScaling_Jupyter.h5\")\n",
    "    \n",
    "else:\n",
    "    print(\"Loading the Model\")\n",
    "    model = load_model(\"Univariate_LSTM_ManualScaling_Jupyter.h5\")"
   ]
  },
  {
   "cell_type": "markdown",
   "metadata": {},
   "source": [
    "Save model"
   ]
  },
  {
   "cell_type": "markdown",
   "metadata": {},
   "source": [
    " Reloading the unscaled data "
   ]
  },
  {
   "cell_type": "code",
   "execution_count": 33,
   "metadata": {},
   "outputs": [
    {
     "data": {
      "text/html": [
       "<div>\n",
       "<style scoped>\n",
       "    .dataframe tbody tr th:only-of-type {\n",
       "        vertical-align: middle;\n",
       "    }\n",
       "\n",
       "    .dataframe tbody tr th {\n",
       "        vertical-align: top;\n",
       "    }\n",
       "\n",
       "    .dataframe thead th {\n",
       "        text-align: right;\n",
       "    }\n",
       "</style>\n",
       "<table border=\"1\" class=\"dataframe\">\n",
       "  <thead>\n",
       "    <tr style=\"text-align: right;\">\n",
       "      <th></th>\n",
       "      <th>index</th>\n",
       "      <th>Datetime</th>\n",
       "      <th>CLOSE</th>\n",
       "      <th>Volume</th>\n",
       "      <th>News_USD</th>\n",
       "      <th>News_EUR</th>\n",
       "      <th>USA30.IDXUSD_CLOSE</th>\n",
       "      <th>USA30.IDXUSD_VOL</th>\n",
       "      <th>EUS.IDXEUR_CLOSE</th>\n",
       "      <th>EUS.IDXEUR_VOL</th>\n",
       "    </tr>\n",
       "  </thead>\n",
       "  <tbody>\n",
       "    <tr>\n",
       "      <th>0</th>\n",
       "      <td>0</td>\n",
       "      <td>2019-11-02 00:00:00</td>\n",
       "      <td>1.11675</td>\n",
       "      <td>0.0</td>\n",
       "      <td>0.0</td>\n",
       "      <td>0.0</td>\n",
       "      <td>27324.831</td>\n",
       "      <td>0.0</td>\n",
       "      <td>3631.631</td>\n",
       "      <td>0.0</td>\n",
       "    </tr>\n",
       "    <tr>\n",
       "      <th>1</th>\n",
       "      <td>1</td>\n",
       "      <td>2019-11-02 00:15:00</td>\n",
       "      <td>1.11675</td>\n",
       "      <td>0.0</td>\n",
       "      <td>0.0</td>\n",
       "      <td>0.0</td>\n",
       "      <td>27324.831</td>\n",
       "      <td>0.0</td>\n",
       "      <td>3631.631</td>\n",
       "      <td>0.0</td>\n",
       "    </tr>\n",
       "    <tr>\n",
       "      <th>2</th>\n",
       "      <td>2</td>\n",
       "      <td>2019-11-02 00:30:00</td>\n",
       "      <td>1.11675</td>\n",
       "      <td>0.0</td>\n",
       "      <td>0.0</td>\n",
       "      <td>0.0</td>\n",
       "      <td>27324.831</td>\n",
       "      <td>0.0</td>\n",
       "      <td>3631.631</td>\n",
       "      <td>0.0</td>\n",
       "    </tr>\n",
       "    <tr>\n",
       "      <th>3</th>\n",
       "      <td>3</td>\n",
       "      <td>2019-11-02 00:45:00</td>\n",
       "      <td>1.11675</td>\n",
       "      <td>0.0</td>\n",
       "      <td>0.0</td>\n",
       "      <td>0.0</td>\n",
       "      <td>27324.831</td>\n",
       "      <td>0.0</td>\n",
       "      <td>3631.631</td>\n",
       "      <td>0.0</td>\n",
       "    </tr>\n",
       "  </tbody>\n",
       "</table>\n",
       "</div>"
      ],
      "text/plain": [
       "   index            Datetime    CLOSE  Volume  News_USD  News_EUR  \\\n",
       "0      0 2019-11-02 00:00:00  1.11675     0.0       0.0       0.0   \n",
       "1      1 2019-11-02 00:15:00  1.11675     0.0       0.0       0.0   \n",
       "2      2 2019-11-02 00:30:00  1.11675     0.0       0.0       0.0   \n",
       "3      3 2019-11-02 00:45:00  1.11675     0.0       0.0       0.0   \n",
       "\n",
       "   USA30.IDXUSD_CLOSE  USA30.IDXUSD_VOL  EUS.IDXEUR_CLOSE  EUS.IDXEUR_VOL  \n",
       "0           27324.831               0.0          3631.631             0.0  \n",
       "1           27324.831               0.0          3631.631             0.0  \n",
       "2           27324.831               0.0          3631.631             0.0  \n",
       "3           27324.831               0.0          3631.631             0.0  "
      ]
     },
     "execution_count": 33,
     "metadata": {},
     "output_type": "execute_result"
    }
   ],
   "source": [
    "dtst = pd.read_csv('../../capstonedata/MarketData-Dukas/EURUSD_Wfeatures.csv', index_col = 0)\n",
    "dtst.drop(columns={'OPEN','HIGH','LOW'}, axis = 1, inplace = True)\n",
    "\n",
    "# Converting the index as date\n",
    "dtst.Datetime = pd.to_datetime(dtst['Datetime'])\n",
    "dtst.head(4)"
   ]
  },
  {
   "cell_type": "code",
   "execution_count": 34,
   "metadata": {},
   "outputs": [],
   "source": [
    "# Dropping unsused columns\n",
    "dtst.drop(columns={'Volume','News_USD','News_EUR','USA30.IDXUSD_CLOSE','EUS.IDXEUR_CLOSE','USA30.IDXUSD_VOL','EUS.IDXEUR_VOL'}, axis = 1, inplace = True)"
   ]
  },
  {
   "cell_type": "markdown",
   "metadata": {},
   "source": [
    "Transforming the data with custom scaling"
   ]
  },
  {
   "cell_type": "code",
   "execution_count": 35,
   "metadata": {},
   "outputs": [],
   "source": [
    "dtst.CLOSE = (dtst.CLOSE - Exp_min) / scale "
   ]
  },
  {
   "cell_type": "markdown",
   "metadata": {},
   "source": [
    "Selecting only the 4 weeks of February 2020"
   ]
  },
  {
   "cell_type": "code",
   "execution_count": 36,
   "metadata": {},
   "outputs": [],
   "source": [
    "startDate = dt.datetime(2020,2,2,17,0,0)\n",
    "endDate = dt.datetime(2020,2,29,16,45,0)\n",
    "\n",
    "dtst = dtst[(dtst.Datetime>= startDate) & (dtst.Datetime< endDate)]"
   ]
  },
  {
   "cell_type": "code",
   "execution_count": 37,
   "metadata": {},
   "outputs": [
    {
     "data": {
      "image/png": "[encoded data removed]",
      "text/plain": [
       "<Figure size 864x360 with 1 Axes>"
      ]
     },
     "metadata": {
      "needs_background": "light"
     },
     "output_type": "display_data"
    }
   ],
   "source": [
    "plt.figure(figsize=(12,5))\n",
    "plt.plot(dtst.Datetime,dtst.CLOSE, color='blue')\n",
    "plt.title(\"EURUSD Test data\")\n",
    "plt.xlabel(\"Time (latest-> oldest)\")\n",
    "plt.ylabel(\"Closing Rate\")\n",
    "plt.show()"
   ]
  },
  {
   "cell_type": "markdown",
   "metadata": {},
   "source": [
    "Test function,returns a dataframe containing the results"
   ]
  },
  {
   "cell_type": "code",
   "execution_count": 38,
   "metadata": {},
   "outputs": [],
   "source": [
    "def lstm_test(df,startDate):\n",
    "    endDate = startDate + timedelta(hours = 10)\n",
    "    X = df[(df.Datetime>= startDate) & (df.Datetime< endDate)]\n",
    "    y = df[(df.Datetime>= endDate) & (df.Datetime< (endDate + timedelta(hours = 1)))]\n",
    "    \n",
    "    last_train = X.CLOSE.tail(1).values[0]\n",
    " \n",
    "    y = y['CLOSE']\n",
    "    \n",
    "    X_test = np.array(X)\n",
    "    X_test = X_test[:,2:4]\n",
    "    X_test = X_test.reshape(1,40, 1)\n",
    "    \n",
    "    predicted_value= model.predict(X_test)\n",
    "    predicted_value = predicted_value.reshape(4,1)\n",
    "       \n",
    "    ltrn = last_train  * scale + Exp_min\n",
    "    pred = predicted_value * scale + Exp_min\n",
    "    test = np.array(y) * scale + Exp_min\n",
    "\n",
    "    rmse = sqrt(mean_squared_error(test,pred))\n",
    "    mape = np.mean(np.abs((test-pred) / test)) *100\n",
    "    \n",
    "    e0 = (pred[0] - test[0])/test[0] *100\n",
    "    e1 = (pred[1] - test[1])/test[1] *100\n",
    "    e2 = (pred[2] - test[2])/test[2] *100\n",
    "    e3 = (pred[3] - test[3])/test[3] *100\n",
    "    \n",
    "    t0 = ((test[0] - ltrn ) > 0) == (( pred[0] - ltrn) > 0)\n",
    "    t1 = ((test[1] - test[0]) > 0 ) == ((pred[1] - pred[0]) > 0 )\n",
    "    t2 = ((test[2] - test[1]) > 0 ) == ((pred[2]- pred[1]) > 0 )\n",
    "    t3 = ((test[3] - test[2]) > 0 ) == ((pred[3] - pred[2]) > 0 )\n",
    "    \n",
    "    ot1 = ((test[1] - ltrn) > 0 ) == ((pred[1] - ltrn) > 0 )\n",
    "    ot2 = ((test[2] - ltrn) > 0 ) == ((pred[2]- ltrn) > 0 )\n",
    "    ot3 = ((test[3] - ltrn) > 0 ) == ((pred[3] - ltrn) > 0 )\n",
    "    \n",
    "    #print(ltrn,pred[0])\n",
    "    ldict = {'RMSE':rmse,'MAPE':mape, 'trend01':t0, 'trend12':t1, 'trend23':t2, 'trend34':t3, 'otrend02': ot1, 'otrend03': ot2, 'otrend04': ot3,\n",
    "            'Errorpc0': e0,'Errorpc1':e1,'Errorpc2':e2,'Errorpc3':e3}\n",
    "    results = pd.DataFrame(ldict)\n",
    "    #print(t0)\n",
    "    #print(\"lastT:\",round(ltrn,5), \"test0: \",test[0], \"pred0\",pred[0], \"trend:\",t0)\n",
    "    return(results)"
   ]
  },
  {
   "cell_type": "code",
   "execution_count": 39,
   "metadata": {},
   "outputs": [],
   "source": [
    "def trend(res):\n",
    "    print(\"Trend lastX 1st pred\",results.trend01[results.trend01 == True].count()/results.trend01.count())\n",
    "    print(\"Trend 1st/2nd pred\",results.trend12[results.trend12 == True].count()/results.trend12.count())\n",
    "    print(\"Trend 2st/3nd pred\",results.trend23[results.trend23 == True].count()/results.trend23.count())\n",
    "    print(\"Trend 3st/4nd pred\",results.trend34[results.trend34 == True].count()/results.trend34.count())\n",
    "    print()\n",
    "    print(\"Trend from the last training point to the Nth predicted point\")\n",
    "    print(\"2nd pred\",results.otrend02[results.otrend02 == True].count()/results.otrend02.count())\n",
    "    print(\"3nd pred\",results.otrend03[results.otrend03 == True].count()/results.otrend03.count())\n",
    "    print(\"4nd pred\",results.otrend04[results.otrend04 == True].count()/results.otrend04.count())"
   ]
  },
  {
   "cell_type": "markdown",
   "metadata": {},
   "source": [
    "Testing every hour from Monday 3am to Friday 4pm (one hour before the market closes on Friday 5pm)\n",
    "\n",
    "The test starts on Monday morning at 3am, 10 hours after the market opens at 5pm on Sunday"
   ]
  },
  {
   "cell_type": "code",
   "execution_count": 40,
   "metadata": {},
   "outputs": [
    {
     "name": "stdout",
     "output_type": "stream",
     "text": [
      "Trend lastX 1st pred 0.42201834862385323\n",
      "Trend 1st/2nd pred 0.48394495412844035\n",
      "Trend 2st/3nd pred 0.45871559633027525\n",
      "Trend 3st/4nd pred 0.44495412844036697\n",
      "\n",
      "Trend from the last training point to the Nth predicted point\n",
      "2nd pred 0.4426605504587156\n",
      "3nd pred 0.4541284403669725\n",
      "4nd pred 0.44036697247706424\n"
     ]
    }
   ],
   "source": [
    "results = pd.DataFrame()\n",
    "\n",
    "for t in range(109):\n",
    "    Stime = dt.datetime(2020,2,3,3,0,0) + timedelta(hours = (t))\n",
    "    results = results.append(lstm_test(dtst,Stime))\n",
    "\n",
    "#results = pd.DataFrame()\n",
    "\n",
    "for t in range(109):\n",
    "    Stime = dt.datetime(2020,2,10,3,0,0) + timedelta(hours = (t))\n",
    "    results = results.append(lstm_test(dtst,Stime))\n",
    "    \n",
    "#trend(results)   \n",
    "#results = pd.DataFrame()\n",
    "\n",
    "for t in range(109):\n",
    "    Stime = dt.datetime(2020,2,17,3,0,0) + timedelta(hours = (t))\n",
    "    results = results.append(lstm_test(dtst,Stime))\n",
    "    \n",
    "#trend(results)\n",
    "#results = pd.DataFrame()\n",
    "\n",
    "for t in range(109):\n",
    "    Stime = dt.datetime(2020,2,24,3,0,0) + timedelta(hours = (t))\n",
    "    results = results.append(lstm_test(dtst,Stime))\n",
    "\n",
    "trend(results)"
   ]
  },
  {
   "cell_type": "markdown",
   "metadata": {},
   "source": [
    "#### Trend prediction is very poor."
   ]
  },
  {
   "cell_type": "markdown",
   "metadata": {},
   "source": [
    "## Error Distribution\n",
    "\n",
    "Now, let's look at how far the predictions are from the real datapoints."
   ]
  },
  {
   "cell_type": "code",
   "execution_count": 42,
   "metadata": {},
   "outputs": [
    {
     "data": {
      "image/png": "[encoded data removed]",
      "text/plain": [
       "<Figure size 864x432 with 4 Axes>"
      ]
     },
     "metadata": {
      "needs_background": "light"
     },
     "output_type": "display_data"
    }
   ],
   "source": [
    "fig = plt.figure(figsize=(12,6))\n",
    "plt.suptitle(\"Univariate LSTM model Error Distribution for EURUSD\", size=18)\n",
    "plt.subplots_adjust(left=None, bottom=-0.5, right=None, top=None, wspace=None, hspace=None)\n",
    "ax1 = fig.add_subplot(221)\n",
    "ax1.set_xlim([-1, 1])\n",
    "sns.distplot(results['Errorpc0'])\n",
    "plt.ylabel(\"Frequency\")\n",
    "plt.xlabel(\"Prediction error in percentage\")\n",
    "plt.title(\"prediction error at t0 + 15 minutes\",size=14)\n",
    "\n",
    "ax2 = fig.add_subplot(222)\n",
    "ax2.set_xlim([-1, 1])\n",
    "sns.distplot(results['Errorpc1'])\n",
    "plt.ylabel(\"Frequency\")\n",
    "plt.xlabel(\"Prediction error in percentage\")\n",
    "plt.title(\"prediction error at t0 + 30 minutes\",size=14)\n",
    "\n",
    "ax3 = fig.add_subplot(223)\n",
    "ax3.set_xlim([-1, 1])\n",
    "sns.distplot(results['Errorpc2'])\n",
    "plt.ylabel(\"Frequency\")\n",
    "plt.xlabel(\"Prediction error in percentage\")\n",
    "plt.title(\"Prediction error at t0 + 45 minutes\",size=14)\n",
    "\n",
    "ax4 = fig.add_subplot(224)\n",
    "ax4.set_xlim([-1, 1])\n",
    "sns.distplot(results['Errorpc3'])\n",
    "plt.ylabel(\"Frequency\")\n",
    "plt.xlabel(\"Prediction error in percentage\")\n",
    "plt.title(\"Prediction error at t0 + 1 hour\",size=14)\n",
    "\n",
    "plt.savefig(\"LSTM_error_distribution.png\")\n",
    "\n",
    "plt.show()\n"
   ]
  },
  {
   "cell_type": "code",
   "execution_count": 43,
   "metadata": {},
   "outputs": [
    {
     "data": {
      "text/plain": [
       "Text(0.5, 1.0, 'RMSE')"
      ]
     },
     "execution_count": 43,
     "metadata": {},
     "output_type": "execute_result"
    },
    {
     "data": {
      "image/png": "[encoded data removed]",
      "text/plain": [
       "<Figure size 864x432 with 1 Axes>"
      ]
     },
     "metadata": {
      "needs_background": "light"
     },
     "output_type": "display_data"
    }
   ],
   "source": [
    "fig = plt.figure(figsize=(12,6))\n",
    "\n",
    "sns.distplot(results['RMSE'])\n",
    "plt.ylabel(\"Frequency\")\n",
    "plt.xlabel(\"Prediction error in percentage\")\n",
    "plt.title(\"RMSE\",size=14)\n"
   ]
  },
  {
   "cell_type": "code",
   "execution_count": 44,
   "metadata": {},
   "outputs": [
    {
     "data": {
      "text/plain": [
       "0.00158643087095738"
      ]
     },
     "execution_count": 44,
     "metadata": {},
     "output_type": "execute_result"
    }
   ],
   "source": [
    "results['RMSE'].mean()"
   ]
  },
  {
   "cell_type": "markdown",
   "metadata": {},
   "source": [
    "Results are pretty poor, other configuration were tried without a better accuracy."
   ]
  }
 ],
 "metadata": {
  "kernelspec": {
   "display_name": "Python 3",
   "language": "python",
   "name": "python3"
  },
  "language_info": {
   "codemirror_mode": {
    "name": "ipython",
    "version": 3
   },
   "file_extension": ".py",
   "mimetype": "text/x-python",
   "name": "python",
   "nbconvert_exporter": "python",
   "pygments_lexer": "ipython3",
   "version": "3.7.6"
  }
 },
 "nbformat": 4,
 "nbformat_minor": 4
}
