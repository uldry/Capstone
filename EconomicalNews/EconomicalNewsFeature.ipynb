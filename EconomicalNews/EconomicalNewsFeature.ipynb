{
 "cells": [
  {
   "cell_type": "markdown",
   "metadata": {},
   "source": [
    "## News Feature\n",
    "\n",
    "From the previously saved dataframe, a numerical news feature is calculated, describing potential impact.\n",
    "\n",
    "#### Principle: \n",
    "\n",
    "- The closer the news release in time, the more the potential impact\n",
    "- News releases within a two hours window are taken into account\n",
    "- News have different impacts: i.e. Central bank interest rate vs industrial production"
   ]
  },
  {
   "cell_type": "markdown",
   "metadata": {},
   "source": [
    "Calculating the news feature, according to the formula below:\n",
    "\n",
    "$ News_{t} = \\sum_{t_n-t}^{t+t_n} e^\\frac{-|t_n-t|}{\\tau}\\times IF_n$\n",
    "\n",
    "Where:\n",
    "\n",
    "- $t_n$ is the time of news release\n",
    "- $IF_n$ is the impact for the news n\n",
    "- news n belong to a window of +/- 2 hours relative to t"
   ]
  },
  {
   "cell_type": "code",
   "execution_count": 2,
   "metadata": {},
   "outputs": [],
   "source": [
    "import datetime\n",
    "import pandas as pd\n",
    "import numpy as np\n",
    "import math as m \n",
    "\n",
    "from numpy import timedelta64\n",
    "from datetime import datetime, timedelta\n",
    "\n",
    "import matplotlib.pyplot as plt\n",
    "%matplotlib inline\n",
    "\n",
    "import sys \n",
    "import warnings\n",
    "warnings.filterwarnings(\"ignore\")"
   ]
  },
  {
   "cell_type": "markdown",
   "metadata": {},
   "source": [
    "#### Constants"
   ]
  },
  {
   "cell_type": "code",
   "execution_count": 3,
   "metadata": {},
   "outputs": [],
   "source": [
    "LowImpact = 0.25\n",
    "MediumImpact = 0.5\n",
    "HighImpact = 1"
   ]
  },
  {
   "cell_type": "markdown",
   "metadata": {},
   "source": [
    "Deciding on an arbitrary $\\tau$, so that the impact of news is pretty much 0 beyond two hours"
   ]
  },
  {
   "cell_type": "code",
   "execution_count": 4,
   "metadata": {},
   "outputs": [],
   "source": [
    "Tau = 30 # 36% in 90 minutes away from the piece of news / 50% 60 minutes away"
   ]
  },
  {
   "cell_type": "code",
   "execution_count": 5,
   "metadata": {},
   "outputs": [],
   "source": [
    "df = pd.read_csv('./EconomicalNews.csv',index_col=0)"
   ]
  },
  {
   "cell_type": "code",
   "execution_count": 6,
   "metadata": {},
   "outputs": [],
   "source": [
    "df.Datetime = pd.to_datetime(df.Datetime)\n",
    "df.set_index('Datetime', inplace = True)"
   ]
  },
  {
   "cell_type": "code",
   "execution_count": 7,
   "metadata": {},
   "outputs": [],
   "source": [
    "startD = df.head(1).index[0]\n",
    "endD = df.tail(1).index[0]"
   ]
  },
  {
   "cell_type": "markdown",
   "metadata": {},
   "source": [
    "Calculating for USD"
   ]
  },
  {
   "cell_type": "code",
   "execution_count": 8,
   "metadata": {},
   "outputs": [],
   "source": [
    "df.reset_index(inplace = True)\n",
    "du = df[df['Currency'] == 'USD']\n",
    "# Getting rid of event that happen at the same time with the same Impact. \n",
    "# It is not perfect but the description didn't seem good enough to remove duplicates.\n",
    "du.drop_duplicates(subset=['Datetime','Impact'],inplace= True)"
   ]
  },
  {
   "cell_type": "code",
   "execution_count": 9,
   "metadata": {},
   "outputs": [
    {
     "data": {
      "text/html": [
       "<div>\n",
       "<style scoped>\n",
       "    .dataframe tbody tr th:only-of-type {\n",
       "        vertical-align: middle;\n",
       "    }\n",
       "\n",
       "    .dataframe tbody tr th {\n",
       "        vertical-align: top;\n",
       "    }\n",
       "\n",
       "    .dataframe thead th {\n",
       "        text-align: right;\n",
       "    }\n",
       "</style>\n",
       "<table border=\"1\" class=\"dataframe\">\n",
       "  <thead>\n",
       "    <tr style=\"text-align: right;\">\n",
       "      <th></th>\n",
       "      <th>Datetime</th>\n",
       "      <th>Currency</th>\n",
       "      <th>Event</th>\n",
       "      <th>Actual</th>\n",
       "      <th>Forecast</th>\n",
       "      <th>Previous</th>\n",
       "      <th>Impact</th>\n",
       "    </tr>\n",
       "  </thead>\n",
       "  <tbody>\n",
       "    <tr>\n",
       "      <th>32</th>\n",
       "      <td>2019-10-30 08:15:00</td>\n",
       "      <td>USD</td>\n",
       "      <td>ADP Non-Farm Employment Change</td>\n",
       "      <td>125K</td>\n",
       "      <td>125K</td>\n",
       "      <td>93K</td>\n",
       "      <td>High Impact Expected</td>\n",
       "    </tr>\n",
       "    <tr>\n",
       "      <th>33</th>\n",
       "      <td>2019-10-30 08:30:00</td>\n",
       "      <td>USD</td>\n",
       "      <td>Advance GDP q/q</td>\n",
       "      <td>1.9%</td>\n",
       "      <td>1.6%</td>\n",
       "      <td>2.0%</td>\n",
       "      <td>High Impact Expected</td>\n",
       "    </tr>\n",
       "    <tr>\n",
       "      <th>34</th>\n",
       "      <td>2019-10-30 08:30:00</td>\n",
       "      <td>USD</td>\n",
       "      <td>Advance GDP Price Index q/q</td>\n",
       "      <td>1.7%</td>\n",
       "      <td>1.8%</td>\n",
       "      <td>2.4%</td>\n",
       "      <td>Medium Impact Expected</td>\n",
       "    </tr>\n",
       "    <tr>\n",
       "      <th>38</th>\n",
       "      <td>2019-10-30 10:30:00</td>\n",
       "      <td>USD</td>\n",
       "      <td>Crude Oil Inventories</td>\n",
       "      <td>5.7M</td>\n",
       "      <td>0.5M</td>\n",
       "      <td>-1.7M</td>\n",
       "      <td>Medium Impact Expected</td>\n",
       "    </tr>\n",
       "    <tr>\n",
       "      <th>40</th>\n",
       "      <td>2019-10-30 14:00:00</td>\n",
       "      <td>USD</td>\n",
       "      <td>FOMC Statement</td>\n",
       "      <td>NaN</td>\n",
       "      <td>NaN</td>\n",
       "      <td>NaN</td>\n",
       "      <td>High Impact Expected</td>\n",
       "    </tr>\n",
       "  </tbody>\n",
       "</table>\n",
       "</div>"
      ],
      "text/plain": [
       "              Datetime Currency                           Event Actual  \\\n",
       "32 2019-10-30 08:15:00      USD  ADP Non-Farm Employment Change   125K   \n",
       "33 2019-10-30 08:30:00      USD                 Advance GDP q/q   1.9%   \n",
       "34 2019-10-30 08:30:00      USD     Advance GDP Price Index q/q   1.7%   \n",
       "38 2019-10-30 10:30:00      USD           Crude Oil Inventories   5.7M   \n",
       "40 2019-10-30 14:00:00      USD                  FOMC Statement    NaN   \n",
       "\n",
       "   Forecast Previous                  Impact  \n",
       "32     125K      93K    High Impact Expected  \n",
       "33     1.6%     2.0%    High Impact Expected  \n",
       "34     1.8%     2.4%  Medium Impact Expected  \n",
       "38     0.5M    -1.7M  Medium Impact Expected  \n",
       "40      NaN      NaN    High Impact Expected  "
      ]
     },
     "execution_count": 9,
     "metadata": {},
     "output_type": "execute_result"
    }
   ],
   "source": [
    "du[du['Datetime'] >= datetime(2019,10,30)].head()"
   ]
  },
  {
   "cell_type": "markdown",
   "metadata": {},
   "source": [
    "Adding the numerical impact colunmn based on constants"
   ]
  },
  {
   "cell_type": "code",
   "execution_count": 10,
   "metadata": {},
   "outputs": [
    {
     "data": {
      "text/html": [
       "<div>\n",
       "<style scoped>\n",
       "    .dataframe tbody tr th:only-of-type {\n",
       "        vertical-align: middle;\n",
       "    }\n",
       "\n",
       "    .dataframe tbody tr th {\n",
       "        vertical-align: top;\n",
       "    }\n",
       "\n",
       "    .dataframe thead th {\n",
       "        text-align: right;\n",
       "    }\n",
       "</style>\n",
       "<table border=\"1\" class=\"dataframe\">\n",
       "  <thead>\n",
       "    <tr style=\"text-align: right;\">\n",
       "      <th></th>\n",
       "      <th>Event</th>\n",
       "      <th>Impact</th>\n",
       "      <th>IndImpact</th>\n",
       "    </tr>\n",
       "  </thead>\n",
       "  <tbody>\n",
       "    <tr>\n",
       "      <th>4</th>\n",
       "      <td>Goods Trade Balance</td>\n",
       "      <td>Low Impact Expected</td>\n",
       "      <td>0.25</td>\n",
       "    </tr>\n",
       "    <tr>\n",
       "      <th>15</th>\n",
       "      <td>S&amp;P/CS Composite-20 HPI y/y</td>\n",
       "      <td>Low Impact Expected</td>\n",
       "      <td>0.25</td>\n",
       "    </tr>\n",
       "    <tr>\n",
       "      <th>16</th>\n",
       "      <td>CB Consumer Confidence</td>\n",
       "      <td>High Impact Expected</td>\n",
       "      <td>1.00</td>\n",
       "    </tr>\n",
       "    <tr>\n",
       "      <th>17</th>\n",
       "      <td>Pending Home Sales m/m</td>\n",
       "      <td>Low Impact Expected</td>\n",
       "      <td>0.25</td>\n",
       "    </tr>\n",
       "    <tr>\n",
       "      <th>32</th>\n",
       "      <td>ADP Non-Farm Employment Change</td>\n",
       "      <td>High Impact Expected</td>\n",
       "      <td>1.00</td>\n",
       "    </tr>\n",
       "  </tbody>\n",
       "</table>\n",
       "</div>"
      ],
      "text/plain": [
       "                             Event                Impact  IndImpact\n",
       "4              Goods Trade Balance   Low Impact Expected       0.25\n",
       "15     S&P/CS Composite-20 HPI y/y   Low Impact Expected       0.25\n",
       "16          CB Consumer Confidence  High Impact Expected       1.00\n",
       "17          Pending Home Sales m/m   Low Impact Expected       0.25\n",
       "32  ADP Non-Farm Employment Change  High Impact Expected       1.00"
      ]
     },
     "execution_count": 10,
     "metadata": {},
     "output_type": "execute_result"
    }
   ],
   "source": [
    "conditions = [du['Impact']=='High Impact Expected', du['Impact']=='Medium Impact Expected', du['Impact']=='Low Impact Expected']\n",
    "values = [1.0,0.75,0.25]\n",
    "du['IndImpact'] = np.select(conditions, values, default = -1)\n",
    "du[['Event', 'Impact','IndImpact']].head()"
   ]
  },
  {
   "cell_type": "markdown",
   "metadata": {},
   "source": [
    "For this example, it will be calculated between for October 30th 2019, between 5.15am and 4pm"
   ]
  },
  {
   "cell_type": "code",
   "execution_count": 11,
   "metadata": {},
   "outputs": [],
   "source": [
    "startDate = datetime(2019,10,30, 5, 15, 0)\n",
    "stopDate = datetime(2019,10,30, 16, 0, 0)\n",
    "delta = stopDate - startDate"
   ]
  },
  {
   "cell_type": "code",
   "execution_count": 12,
   "metadata": {},
   "outputs": [],
   "source": [
    "Newsn = []\n",
    "\n",
    "for minutes in range(0,int(delta.seconds/60+1)):\n",
    "    currentDtime = startDate + timedelta(minutes = minutes)\n",
    "    \n",
    "    # Getting the events in the past\n",
    "    dpast = du[(du['Datetime'] >= (currentDtime - timedelta(hours=2))) & (du['Datetime'] <= (currentDtime ))]\n",
    "    # Getting the events in the future\n",
    "    # Past \"<=\" CurrentDtime / Future \">\" currentDtime to avoid having an event in both future and past \n",
    "    dfuture = du[(du['Datetime'] > (currentDtime)) & (du['Datetime'] <= (currentDtime + timedelta(hours=2)))]\n",
    "    \n",
    "    # If there is no event in the past Tpast = 0\n",
    "    if (dpast.shape[0]>0):\n",
    "        \n",
    "        # Calculating time passed until the event\n",
    "        dpast['TimeToEvent'] = ((currentDtime) - du['Datetime']).astype(timedelta64)*1e-9/60\n",
    "        # Calculating  EXP( -TimeToEvent / Tau)\n",
    "\n",
    "        dpast['exp'] =  dpast['TimeToEvent'].apply(lambda x: m.exp(-x/Tau))\n",
    "        # Scaling accoring to news importance\n",
    "        dpast['Sc_exp'] = dpast['exp'] * dpast['IndImpact']\n",
    "\n",
    "        # Calculating the contribution due to the past events\n",
    "        Tpast = dpast['Sc_exp'].sum()\n",
    "    else: Tpast = 0\n",
    "\n",
    "    \n",
    "    if(dfuture.shape[0]>0 ):\n",
    "        # Calculating time left until the event\n",
    "        dfuture['TimeToEvent'] = (du['Datetime'] - (currentDtime)).astype(timedelta64)*1e-9/60\n",
    "        # Calculating  EXP( -TimeToEvent / Tau)\n",
    "        dfuture['exp'] =  dfuture['TimeToEvent'].apply(lambda x: m.exp(-x/Tau))\n",
    "        # Scaling accoring to news importance\n",
    "        dfuture['Sc_exp'] = dfuture['exp'] * dfuture['IndImpact']\n",
    "\n",
    "        # Calculating the contribution due to the future events\n",
    "        Tfut = dfuture['Sc_exp'].sum()\n",
    "    else: Tfut = 0\n",
    "\n",
    "    Newsn.append(Tpast+Tfut)"
   ]
  },
  {
   "cell_type": "markdown",
   "metadata": {},
   "source": [
    "Ploting the resulting feature and the news dataframe for the considered period"
   ]
  },
  {
   "cell_type": "code",
   "execution_count": 13,
   "metadata": {},
   "outputs": [
    {
     "data": {
      "image/png": "[encoded data removed]",
      "text/plain": [
       "<Figure size 720x432 with 1 Axes>"
      ]
     },
     "metadata": {
      "needs_background": "light"
     },
     "output_type": "display_data"
    }
   ],
   "source": [
    "plt.figure(figsize=(10,6))\n",
    "plt.plot(Newsn)\n",
    "plt.title('News feature for USD on 30/10/2019 between 5.15am and 4pm')\n",
    "plt.xlabel('Minutes')\n",
    "plt.ylabel('News impact')\n",
    "plt.show()"
   ]
  },
  {
   "cell_type": "code",
   "execution_count": 15,
   "metadata": {},
   "outputs": [
    {
     "data": {
      "text/html": [
       "<div>\n",
       "<style scoped>\n",
       "    .dataframe tbody tr th:only-of-type {\n",
       "        vertical-align: middle;\n",
       "    }\n",
       "\n",
       "    .dataframe tbody tr th {\n",
       "        vertical-align: top;\n",
       "    }\n",
       "\n",
       "    .dataframe thead th {\n",
       "        text-align: right;\n",
       "    }\n",
       "</style>\n",
       "<table border=\"1\" class=\"dataframe\">\n",
       "  <thead>\n",
       "    <tr style=\"text-align: right;\">\n",
       "      <th></th>\n",
       "      <th>Datetime</th>\n",
       "      <th>Currency</th>\n",
       "      <th>Event</th>\n",
       "      <th>Actual</th>\n",
       "      <th>Forecast</th>\n",
       "      <th>Previous</th>\n",
       "      <th>Impact</th>\n",
       "      <th>IndImpact</th>\n",
       "    </tr>\n",
       "  </thead>\n",
       "  <tbody>\n",
       "    <tr>\n",
       "      <th>32</th>\n",
       "      <td>2019-10-30 08:15:00</td>\n",
       "      <td>USD</td>\n",
       "      <td>ADP Non-Farm Employment Change</td>\n",
       "      <td>125K</td>\n",
       "      <td>125K</td>\n",
       "      <td>93K</td>\n",
       "      <td>High Impact Expected</td>\n",
       "      <td>1.00</td>\n",
       "    </tr>\n",
       "    <tr>\n",
       "      <th>33</th>\n",
       "      <td>2019-10-30 08:30:00</td>\n",
       "      <td>USD</td>\n",
       "      <td>Advance GDP q/q</td>\n",
       "      <td>1.9%</td>\n",
       "      <td>1.6%</td>\n",
       "      <td>2.0%</td>\n",
       "      <td>High Impact Expected</td>\n",
       "      <td>1.00</td>\n",
       "    </tr>\n",
       "    <tr>\n",
       "      <th>34</th>\n",
       "      <td>2019-10-30 08:30:00</td>\n",
       "      <td>USD</td>\n",
       "      <td>Advance GDP Price Index q/q</td>\n",
       "      <td>1.7%</td>\n",
       "      <td>1.8%</td>\n",
       "      <td>2.4%</td>\n",
       "      <td>Medium Impact Expected</td>\n",
       "      <td>0.75</td>\n",
       "    </tr>\n",
       "    <tr>\n",
       "      <th>38</th>\n",
       "      <td>2019-10-30 10:30:00</td>\n",
       "      <td>USD</td>\n",
       "      <td>Crude Oil Inventories</td>\n",
       "      <td>5.7M</td>\n",
       "      <td>0.5M</td>\n",
       "      <td>-1.7M</td>\n",
       "      <td>Medium Impact Expected</td>\n",
       "      <td>0.75</td>\n",
       "    </tr>\n",
       "    <tr>\n",
       "      <th>40</th>\n",
       "      <td>2019-10-30 14:00:00</td>\n",
       "      <td>USD</td>\n",
       "      <td>FOMC Statement</td>\n",
       "      <td>NaN</td>\n",
       "      <td>NaN</td>\n",
       "      <td>NaN</td>\n",
       "      <td>High Impact Expected</td>\n",
       "      <td>1.00</td>\n",
       "    </tr>\n",
       "    <tr>\n",
       "      <th>42</th>\n",
       "      <td>2019-10-30 14:30:00</td>\n",
       "      <td>USD</td>\n",
       "      <td>FOMC Press Conference</td>\n",
       "      <td>NaN</td>\n",
       "      <td>NaN</td>\n",
       "      <td>NaN</td>\n",
       "      <td>High Impact Expected</td>\n",
       "      <td>1.00</td>\n",
       "    </tr>\n",
       "  </tbody>\n",
       "</table>\n",
       "</div>"
      ],
      "text/plain": [
       "              Datetime Currency                           Event Actual  \\\n",
       "32 2019-10-30 08:15:00      USD  ADP Non-Farm Employment Change   125K   \n",
       "33 2019-10-30 08:30:00      USD                 Advance GDP q/q   1.9%   \n",
       "34 2019-10-30 08:30:00      USD     Advance GDP Price Index q/q   1.7%   \n",
       "38 2019-10-30 10:30:00      USD           Crude Oil Inventories   5.7M   \n",
       "40 2019-10-30 14:00:00      USD                  FOMC Statement    NaN   \n",
       "42 2019-10-30 14:30:00      USD           FOMC Press Conference    NaN   \n",
       "\n",
       "   Forecast Previous                  Impact  IndImpact  \n",
       "32     125K      93K    High Impact Expected       1.00  \n",
       "33     1.6%     2.0%    High Impact Expected       1.00  \n",
       "34     1.8%     2.4%  Medium Impact Expected       0.75  \n",
       "38     0.5M    -1.7M  Medium Impact Expected       0.75  \n",
       "40      NaN      NaN    High Impact Expected       1.00  \n",
       "42      NaN      NaN    High Impact Expected       1.00  "
      ]
     },
     "execution_count": 15,
     "metadata": {},
     "output_type": "execute_result"
    }
   ],
   "source": [
    "du[(du['Datetime'] >= (startDate - timedelta(hours=2))) & (du['Datetime'] <= (startDate  + timedelta(hours=20)))]"
   ]
  }
 ],
 "metadata": {
  "kernelspec": {
   "display_name": "Python 3",
   "language": "python",
   "name": "python3"
  },
  "language_info": {
   "codemirror_mode": {
    "name": "ipython",
    "version": 3
   },
   "file_extension": ".py",
   "mimetype": "text/x-python",
   "name": "python",
   "nbconvert_exporter": "python",
   "pygments_lexer": "ipython3",
   "version": "3.6.10"
  }
 },
 "nbformat": 4,
 "nbformat_minor": 4
}
